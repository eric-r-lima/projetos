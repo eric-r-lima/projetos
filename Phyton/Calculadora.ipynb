{
 "cells": [
  {
   "cell_type": "code",
   "execution_count": 28,
   "id": "2ca9e848-d97e-4965-8ee6-785704de3c0b",
   "metadata": {},
   "outputs": [
    {
     "name": "stdout",
     "output_type": "stream",
     "text": [
      ".:: Bem vindo à calculadora::..\n",
      "Selecione a operação:\n",
      "0 para operação de soma\n",
      "1 para operação de subtração\n",
      "2 para operação de multiplicação\n",
      "3 para operação de divisão\n",
      "4 para operação de exponenciação\n",
      "9 para encerrar\n"
     ]
    },
    {
     "name": "stdin",
     "output_type": "stream",
     "text": [
      " 4\n"
     ]
    },
    {
     "name": "stdout",
     "output_type": "stream",
     "text": [
      "4\n",
      "Você escolheu a opção 4, ou seja Exponênciação\n",
      "Informe o primeiro número\n"
     ]
    },
    {
     "name": "stdin",
     "output_type": "stream",
     "text": [
      " 2\n"
     ]
    },
    {
     "name": "stdout",
     "output_type": "stream",
     "text": [
      "Informe o segundo número\n"
     ]
    },
    {
     "name": "stdin",
     "output_type": "stream",
     "text": [
      " 9\n"
     ]
    },
    {
     "name": "stdout",
     "output_type": "stream",
     "text": [
      "A Exponênciação de 2 e 9 é igual a: 512 \n",
      "Calculadora encerrada\n"
     ]
    }
   ],
   "source": [
    "print(\".:: Bem vindo à calculadora::..\")\n",
    "print(\"Selecione a operação:\")\n",
    "print(\"0 para operação de soma\")\n",
    "print(\"1 para operação de subtração\")\n",
    "print(\"2 para operação de multiplicação\")\n",
    "print(\"3 para operação de divisão\")\n",
    "print(\"4 para operação de exponenciação\")\n",
    "print(\"9 para encerrar\")\n",
    "operacao = int(input())\n",
    "while operacao != 9:\n",
    "    print(operacao)\n",
    "    if operacao == 0:\n",
    "        import time\n",
    "        print(\"Você escolheu a opção {}, ou seja soma\".format(operacao))\n",
    "        print(\"Informe o primeiro número\")\n",
    "        num1 = int(input())\n",
    "        print(\"Informe o segundo número\")\n",
    "        num2 = int(input())\n",
    "        result = num1 + num2\n",
    "        print(\"A soma de {} e {} é igual a: {} \".format(num1, num2, result))\n",
    "        break\n",
    "    elif operacao == 1:\n",
    "        import time\n",
    "        print(\"Você escolheu a opção {}, ou seja subtração\".format(operacao))\n",
    "        print(\"Informe o primeiro número\")\n",
    "        num1 = int(input())\n",
    "        print(\"Informe o segundo número\")\n",
    "        num2 = int(input())\n",
    "        result = num1 - num2\n",
    "        print(\"A Subtração de {} e {} é igual a: {} \".format(num1, num2, result))\n",
    "        break\n",
    "    elif operacao == 2:\n",
    "        import time\n",
    "        print(\"Você escolheu a opção {}, ou seja Multiplicação\".format(operacao))\n",
    "        print(\"Informe o primeiro número\")\n",
    "        num1 = int(input())\n",
    "        print(\"Informe o segundo número\")\n",
    "        num2 = int(input())\n",
    "        result = num1 * num2\n",
    "        print(\"A Multiplicação de {} e {} é igual a: {} \".format(num1, num2, result))\n",
    "        break\n",
    "    elif operacao == 3:\n",
    "        import time\n",
    "        print(\"Você escolheu a opção {}, ou seja Divisão\".format(operacao))\n",
    "        print(\"Informe o primeiro número\")\n",
    "        num1 = int(input())\n",
    "        print(\"Informe o segundo número\")\n",
    "        num2 = int(input())\n",
    "        result = num1 / num2\n",
    "        print(\"A Divisão de {} e {} é igual a: {} \".format(num1, num2, result))\n",
    "        break\n",
    "    elif operacao == 4:\n",
    "        import time\n",
    "        print(\"Você escolheu a opção {}, ou seja Exponênciação\".format(operacao))\n",
    "        print(\"Informe o primeiro número\")\n",
    "        num1 = int(input())\n",
    "        print(\"Informe o segundo número\")\n",
    "        num2 = int(input())\n",
    "        result = num1 ** num2\n",
    "        print(\"A Exponênciação de {} e {} é igual a: {} \".format(num1, num2, result))\n",
    "        break\n",
    "    else:\n",
    "        print(\"Opção inexistente\")\n",
    "        print(\"Insira a opção novamente\")\n",
    "        operacao = int(input())\n",
    "else:\n",
    "    print(\"Calculadora encerrada\")\n",
    "print(\"Calculadora encerrada\")"
   ]
  },
  {
   "cell_type": "code",
   "execution_count": null,
   "id": "6e40524f-4b6a-49c1-82e0-30d6659fcb72",
   "metadata": {},
   "outputs": [],
   "source": []
  }
 ],
 "metadata": {
  "kernelspec": {
   "display_name": "Python 3 (ipykernel)",
   "language": "python",
   "name": "python3"
  },
  "language_info": {
   "codemirror_mode": {
    "name": "ipython",
    "version": 3
   },
   "file_extension": ".py",
   "mimetype": "text/x-python",
   "name": "python",
   "nbconvert_exporter": "python",
   "pygments_lexer": "ipython3",
   "version": "3.10.9"
  }
 },
 "nbformat": 4,
 "nbformat_minor": 5
}
